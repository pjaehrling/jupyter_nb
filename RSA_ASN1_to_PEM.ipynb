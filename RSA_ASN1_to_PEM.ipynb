{
 "cells": [
  {
   "cell_type": "code",
   "execution_count": 11,
   "metadata": {},
   "outputs": [],
   "source": [
    "import base64\n",
    "\n",
    "from Crypto.PublicKey import RSA # pip package pycrypto"
   ]
  },
  {
   "cell_type": "code",
   "execution_count": 12,
   "metadata": {},
   "outputs": [],
   "source": [
    "# public key components go here (in most cases that will be a base64 encoded string)\n",
    "asn1_b64_modulus = 'x1FlKJgKlnwe6ZHhscsgKbl/dbCGk0HxN/nj3oagOa+nk8l9ObP7zU+PjY7BRNZcjAyWem6ZMlTBtQe1NnhvhPOKWaAI8gIP73KR+l6IkHM2dJJy/3zIiQOGFzK3lx3hJJD/2TT7QT8rNj31o2Nlu3OZiFl7BHQY9StEXDCdXGk='\n",
    "asn1_b64_exponent = 'AQAB'\n"
   ]
  },
  {
   "cell_type": "code",
   "execution_count": 13,
   "metadata": {},
   "outputs": [
    {
     "name": "stdout",
     "output_type": "stream",
     "text": [
      "#### BYTE ####\n",
      "Mod:  b'\\xc7Qe(\\x98\\n\\x96|\\x1e\\xe9\\x91\\xe1\\xb1\\xcb )\\xb9\\x7fu\\xb0\\x86\\x93A\\xf17\\xf9\\xe3\\xde\\x86\\xa09\\xaf\\xa7\\x93\\xc9}9\\xb3\\xfb\\xcdO\\x8f\\x8d\\x8e\\xc1D\\xd6\\\\\\x8c\\x0c\\x96zn\\x992T\\xc1\\xb5\\x07\\xb56xo\\x84\\xf3\\x8aY\\xa0\\x08\\xf2\\x02\\x0f\\xefr\\x91\\xfa^\\x88\\x90s6t\\x92r\\xff|\\xc8\\x89\\x03\\x86\\x172\\xb7\\x97\\x1d\\xe1$\\x90\\xff\\xd94\\xfbA?+6=\\xf5\\xa3ce\\xbbs\\x99\\x88Y{\\x04t\\x18\\xf5+D\\\\0\\x9d\\\\i'\n",
      "Exp:  b'\\x01\\x00\\x01'\n",
      "#### INT ####\n",
      "Mod:  73987553484429075556871343785800401206473880038906623461098200725310549767067589574103028617985888152317171913742566738373833859474853370848736841932033441873335188465991258632970629160089556033846198566745690865309288140744970406258360433744393933844704708059071237790342472272075085314910955977899447243207\n",
      "Exp:  65537\n",
      "#### PEM ####\n",
      "b'-----BEGIN PUBLIC KEY-----\\nMIGeMA0GCSqGSIb3DQEBAQUAA4GMADCBiAKBgGlcnTBcRCv1GHQEe1mImXO7ZWOj\\n9T02Kz9B+zTZ/5Ak4R2XtzIXhgOJyHz/cpJ0NnOQiF76kXLvDwLyCKBZivOEb3g2\\ntQe1wVQymW56lgyMXNZEwY6Nj0/N+7M5fcmTp685oIbe4/k38UGThrB1f7kpIMux\\n4ZHpHnyWCpgoZVHHAgMBAAE=\\n-----END PUBLIC KEY-----'\n"
     ]
    }
   ],
   "source": [
    "byte_modulus = base64.b64decode(asn1_b64_modulus)\n",
    "byte_exponent = base64.b64decode(asn1_b64_exponent)\n",
    "print('#### BYTE ####')\n",
    "print('Mod: ', byte_modulus)\n",
    "print('Exp: ', byte_exponent)\n",
    "\n",
    "int_modulus = int.from_bytes(byte_modulus, byteorder='little')\n",
    "int_exponent = int.from_bytes(byte_exponent, byteorder='little')\n",
    "print('#### INT ####')\n",
    "print('Mod: ', int_modulus)\n",
    "print('Exp: ', int_exponent)\n",
    "\n",
    "rsa_key = RSA.construct((int_modulus, int_exponent))\n",
    "pem = rsa_key.exportKey(\"PEM\")\n",
    "print('#### PEM ####')\n",
    "print(pem)\n",
    "\n",
    "fd = open(\"public_key.pem\", \"wb\")\n",
    "fd.write(pem)\n",
    "fd.close()"
   ]
  },
  {
   "cell_type": "code",
   "execution_count": null,
   "metadata": {},
   "outputs": [],
   "source": []
  }
 ],
 "metadata": {
  "kernelspec": {
   "display_name": "Python 3",
   "language": "python",
   "name": "python3"
  },
  "language_info": {
   "codemirror_mode": {
    "name": "ipython",
    "version": 3
   },
   "file_extension": ".py",
   "mimetype": "text/x-python",
   "name": "python",
   "nbconvert_exporter": "python",
   "pygments_lexer": "ipython3",
   "version": "3.7.3"
  }
 },
 "nbformat": 4,
 "nbformat_minor": 2
}
